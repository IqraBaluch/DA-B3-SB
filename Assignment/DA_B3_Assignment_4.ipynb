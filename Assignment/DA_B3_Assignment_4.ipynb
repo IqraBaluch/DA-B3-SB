{
  "cells": [
    {
      "cell_type": "markdown",
      "id": "ded69d83-04af-41d6-8e49-609befccff3f",
      "metadata": {
        "id": "ded69d83-04af-41d6-8e49-609befccff3f"
      },
      "source": [
        "## Q1.\n",
        "\n",
        "An e-commerce store stores information about its products in a nested dictionary. The outer dictionary uses product IDs as keys, and the inner dictionary stores product details like name, category, price, and stock quantity. products = { 101: {\"name\": \"Laptop\", \"category\": \"Electronics\", \"price\": 1200, \"stock\": 50}, 102: {\"name\": \"Shirt\", \"category\": \"Apparel\", \"price\": 25, \"stock\": 200}, 103: {\"name\": \"Coffee Maker\", \"category\": \"Home Appliances\", \"price\": 80, \"stock\": 30} }\n",
        "\n",
        "• Increase the stock of the \"Shirt\" product (add 50 more units)\n",
        "\n",
        "• Add a new product (e.g., \"Smartphone\")"
      ]
    },
    {
      "cell_type": "code",
      "execution_count": 2,
      "id": "04388db7",
      "metadata": {
        "colab": {
          "base_uri": "https://localhost:8080/"
        },
        "id": "04388db7",
        "outputId": "d4097e13-3fda-48a0-f484-9881c534f5f8"
      },
      "outputs": [
        {
          "output_type": "stream",
          "name": "stdout",
          "text": [
            "After Update\n",
            "{101: {'name': 'Laptop', 'category': 'Electronics', 'price': 1200, 'stock': 50}, 102: {'name': 'Shirt', 'category': 'Apparel', 'price': 25, 'stock': 200}, 103: {'name': 'Coffee Maker', 'category': 'Home Appliances', 'price': 80, 'stock': 30}, 'stock': 250}\n",
            " \n",
            "After Adding a new Product\n"
          ]
        },
        {
          "output_type": "execute_result",
          "data": {
            "text/plain": [
              "{101: {'name': 'Laptop',\n",
              "  'category': 'Electronics',\n",
              "  'price': 1200,\n",
              "  'stock': 50},\n",
              " 102: {'name': 'Shirt', 'category': 'Apparel', 'price': 25, 'stock': 200},\n",
              " 103: {'name': 'Coffee Maker',\n",
              "  'category': 'Home Appliances',\n",
              "  'price': 80,\n",
              "  'stock': 30},\n",
              " 'stock': 250,\n",
              " 104: {'name': 'Smartphone',\n",
              "  'category': 'Electronics',\n",
              "  'price': 1200,\n",
              "  'stock': 50}}"
            ]
          },
          "metadata": {},
          "execution_count": 2
        }
      ],
      "source": [
        "products = { 101: {\"name\": \"Laptop\", \"category\": \"Electronics\", \"price\": 1200, \"stock\": 50}, 102: {\"name\": \"Shirt\", \"category\": \"Apparel\", \"price\": 25, \"stock\": 200}, 103: {\"name\": \"Coffee Maker\", \"category\": \"Home Appliances\", \"price\": 80, \"stock\": 30} }\n",
        "#Increase the stock of the \"Shirt\" product (add 50 more units)\n",
        "products.update({'stock':250})\n",
        "print(\"After Update\")\n",
        "print(products)\n",
        "print(\" \")\n",
        "#Add a new product (e.g., \"Smartphone\")\n",
        "print(\"After Adding a new Product\")\n",
        "products.update({104: {\"name\": \"Smartphone\", \"category\": \"Electronics\", \"price\": 1200, \"stock\": 50}})\n",
        "products"
      ]
    },
    {
      "cell_type": "markdown",
      "id": "e10a9a28-2eb0-415e-a90c-41e3e1b2853e",
      "metadata": {
        "id": "e10a9a28-2eb0-415e-a90c-41e3e1b2853e"
      },
      "source": [
        "## Q2.\n",
        "\n",
        "You are given a list that contains some duplicate items. Remove the duplicates\n",
        "\n",
        "shopping_list = [\"apple\", \"banana\", \"apple\", \"orange\", \"banana\", \"grape\"]"
      ]
    },
    {
      "cell_type": "code",
      "source": [
        "shopping_list = [\"apple\", \"banana\", \"apple\", \"orange\", \"banana\", \"grape\"]\n",
        "#coverting it into set\n",
        "no_duplicates= set(shopping_list)\n",
        "print(no_duplicates)"
      ],
      "metadata": {
        "colab": {
          "base_uri": "https://localhost:8080/"
        },
        "id": "Vf7E9FrAhT6s",
        "outputId": "471ae669-d93b-4adc-d581-f02e0770ccf3"
      },
      "id": "Vf7E9FrAhT6s",
      "execution_count": 3,
      "outputs": [
        {
          "output_type": "stream",
          "name": "stdout",
          "text": [
            "{'orange', 'apple', 'grape', 'banana'}\n"
          ]
        }
      ]
    },
    {
      "cell_type": "markdown",
      "id": "0a62bc87-09d4-44c1-8311-2d3c6867511b",
      "metadata": {
        "id": "0a62bc87-09d4-44c1-8311-2d3c6867511b"
      },
      "source": [
        "## Q3.\n",
        "\n",
        "You are managing a list of students enrolled in two different courses. You need to perform various set operations to understand the student enrollment. Task: Create two sets: one for students in \"Course A\" and one for students in \"Course B\". Find the students who are in \"Course A\" but not in \"Course B\" (difference). Find students who are only in one of the two courses (symmetric difference).\n",
        "\n",
        "course_a = {\"John\", \"Alice\", \"Bob\", \"David\"}\n",
        "\n",
        "course_b = {\"Alice\", \"Eve\", \"Charlie\", \"David\"}\n",
        "\n",
        "• Find students who are in Course A but not in Course B (difference)\n",
        "\n",
        "• Find students who are only in one of the two courses (symmetric difference)"
      ]
    },
    {
      "cell_type": "markdown",
      "source": [
        "## SOLUTION 1"
      ],
      "metadata": {
        "id": "BD_o_UMshd3U"
      },
      "id": "BD_o_UMshd3U"
    },
    {
      "cell_type": "code",
      "source": [
        "# Find students who are in Course A but not in Course B (difference)\n",
        "course_a = {\"John\", \"Alice\", \"Bob\", \"David\"}\n",
        "course_b = {\"Alice\", \"Eve\", \"Charlie\", \"David\"}\n",
        "\n",
        "only_in_a = course_a - course_b\n",
        "print(\"students who are in Course A but not in Course B: \",only_in_a)\n",
        "\n",
        "only_in_one = course_a ^ course_b\n",
        "print(\"students who are only in one of the two courses: \",only_in_one)"
      ],
      "metadata": {
        "colab": {
          "base_uri": "https://localhost:8080/"
        },
        "id": "OXx7cPxqhaEC",
        "outputId": "d41c6cb6-afc6-4df4-e835-68e64ea310f3"
      },
      "id": "OXx7cPxqhaEC",
      "execution_count": 4,
      "outputs": [
        {
          "output_type": "stream",
          "name": "stdout",
          "text": [
            "students who are in Course A but not in Course B:  {'John', 'Bob'}\n",
            "students who are only in one of the two courses:  {'John', 'Bob', 'Charlie', 'Eve'}\n"
          ]
        }
      ]
    },
    {
      "cell_type": "markdown",
      "source": [
        "## SOLUTION 2"
      ],
      "metadata": {
        "id": "stIfdAL9hgza"
      },
      "id": "stIfdAL9hgza"
    },
    {
      "cell_type": "code",
      "source": [
        "# Find students who are in Course A but not in Course B (difference)\n",
        "course_a = {\"John\", \"Alice\", \"Bob\", \"David\"}\n",
        "course_b = {\"Alice\", \"Eve\", \"Charlie\", \"David\"}\n",
        "\n",
        "for name in course_a or course_b:\n",
        "    if name in course_a and name not in course_b:\n",
        "        print(name, \" is in course_A but not in course_b\")\n",
        "    else:\n",
        "        print(\"students who are only in one of the two courses\",course_a ^ course_b)"
      ],
      "metadata": {
        "colab": {
          "base_uri": "https://localhost:8080/"
        },
        "id": "M8LC1wxMhi6q",
        "outputId": "04a73e9a-3eea-427b-b3e4-5a7612bc1adf"
      },
      "id": "M8LC1wxMhi6q",
      "execution_count": 5,
      "outputs": [
        {
          "output_type": "stream",
          "name": "stdout",
          "text": [
            "John  is in course_A but not in course_b\n",
            "students who are only in one of the two courses {'John', 'Bob', 'Charlie', 'Eve'}\n",
            "students who are only in one of the two courses {'John', 'Bob', 'Charlie', 'Eve'}\n",
            "Bob  is in course_A but not in course_b\n"
          ]
        }
      ]
    },
    {
      "cell_type": "markdown",
      "id": "822000b2-e437-4d5d-9fff-2bded3b347cb",
      "metadata": {
        "id": "822000b2-e437-4d5d-9fff-2bded3b347cb"
      },
      "source": [
        "## Q4.\n",
        "\n",
        "Write a Python program that calculates the sum of all even numbers between 1 and 50 (inclusive) using a for loop.\n",
        "\n",
        "Hint\n",
        "\n",
        "- Initialize a variable to hold the sum (e.g., sum_of_evens).\n",
        "- Use a for loop to iterate through all numbers from 1 to 50.\n",
        "- Inside the loop, check if the number is even.\n",
        "- If the number is even, add it to sum_of_evens.\n",
        "- After the loop finishes, print the total sum of all even numbers between 1 and 50."
      ]
    },
    {
      "cell_type": "code",
      "source": [
        "sum_of_evens = []\n",
        "\n",
        "for i in range(1,51):\n",
        "    if i%2==0:\n",
        "        sum_of_evens.append(i)\n",
        "print(\"The sum of all even numbers between 1 and 50 is: \",sum(sum_of_evens))\n"
      ],
      "metadata": {
        "colab": {
          "base_uri": "https://localhost:8080/"
        },
        "id": "yauYu1nzhuJL",
        "outputId": "efe2e22c-878f-4289-e87e-435d2b9ee9a0"
      },
      "id": "yauYu1nzhuJL",
      "execution_count": 6,
      "outputs": [
        {
          "output_type": "stream",
          "name": "stdout",
          "text": [
            "The sum of all even numbers between 1 and 50 is:  650\n"
          ]
        }
      ]
    },
    {
      "cell_type": "markdown",
      "id": "b6529e21-c453-48f0-acee-54044715bc1d",
      "metadata": {
        "id": "b6529e21-c453-48f0-acee-54044715bc1d"
      },
      "source": [
        "## Q5.\n",
        "Power of a Number Write a Python program that takes a number and prints the powers of the number (starting from 1 to 10) using a while loop. For example, if the user inputs 3, the output should be:\n",
        "\n",
        "3^1 = 3\n",
        "\n",
        "3^2 = 9\n",
        "\n",
        "3^3 = 27\n",
        "\n",
        "... up to 3^10."
      ]
    },
    {
      "cell_type": "code",
      "source": [
        "for i in range(1,10):\n",
        "    j =i**i\n",
        "    print(\"The power of \",i,\" is: \", j)"
      ],
      "metadata": {
        "colab": {
          "base_uri": "https://localhost:8080/"
        },
        "id": "Xf12tKvDhx8a",
        "outputId": "9f479a28-ce11-4cd4-eadc-b3c1c6fe9d78"
      },
      "id": "Xf12tKvDhx8a",
      "execution_count": 7,
      "outputs": [
        {
          "output_type": "stream",
          "name": "stdout",
          "text": [
            "The power of  1  is:  1\n",
            "The power of  2  is:  4\n",
            "The power of  3  is:  27\n",
            "The power of  4  is:  256\n",
            "The power of  5  is:  3125\n",
            "The power of  6  is:  46656\n",
            "The power of  7  is:  823543\n",
            "The power of  8  is:  16777216\n",
            "The power of  9  is:  387420489\n"
          ]
        }
      ]
    },
    {
      "cell_type": "markdown",
      "id": "17616e00-7421-4145-8177-c27d67f85b18",
      "metadata": {
        "id": "17616e00-7421-4145-8177-c27d67f85b18"
      },
      "source": [
        "## Q6.\n",
        "\n",
        "Problem Statement: Write a Python program that takes an integer input from the user and counts down from that number to 0. The program should display the current number at each step until it reaches 0, at which point it should print a message indicating the countdown is finished\n",
        "\n",
        "Output Hint:\n",
        "\n",
        "Enter a number to start the countdown: 3\n",
        "\n",
        "3\n",
        "\n",
        "2\n",
        "\n",
        "1\n",
        "\n",
        "0\n",
        "\n",
        "Countdown finished!"
      ]
    },
    {
      "cell_type": "code",
      "source": [
        "num = int(input(\"Enter a number: \"))\n",
        "for i in range(num,0,-1):\n",
        "  print(i)\n",
        "print(0)\n",
        "print(\"Countdown finished!\")"
      ],
      "metadata": {
        "colab": {
          "base_uri": "https://localhost:8080/"
        },
        "id": "0Fm0DErvh8YG",
        "outputId": "cfa04012-3065-4cbb-fce1-4cc44cab8b83"
      },
      "id": "0Fm0DErvh8YG",
      "execution_count": 21,
      "outputs": [
        {
          "output_type": "stream",
          "name": "stdout",
          "text": [
            "Enter a number: 4\n",
            "4\n",
            "3\n",
            "2\n",
            "1\n",
            "0\n",
            "Countdown finished!\n"
          ]
        }
      ]
    },
    {
      "cell_type": "markdown",
      "id": "cfe42689-a235-4920-a4d2-2b0cbb8e51c6",
      "metadata": {
        "id": "cfe42689-a235-4920-a4d2-2b0cbb8e51c6"
      },
      "source": [
        "## Q7.\n",
        "\n",
        "Write a Python program that takes a number as input from the user and calculates its factorial using a for loop. The program should display the result to the user.\n",
        "\n",
        "Example Input/Output:\n",
        "\n",
        "Input:\n",
        "5\n",
        "\n",
        "Output:\n",
        "The factorial of 5 is 120"
      ]
    },
    {
      "cell_type": "code",
      "source": [
        "num = int(input(\"Enter a number: \"))\n",
        "factorial = 1\n",
        "\n",
        "if num < 0:\n",
        "    print(\"Factorial does not exist for negative numbers.\")\n",
        "elif num == 0:\n",
        "    print(\"The factorial of 0 is 1.\")\n",
        "else:\n",
        "    for i in range(1, num + 1):\n",
        "        factorial *= i\n",
        "    print(f\"The factorial of {num} is {factorial}.\")\n"
      ],
      "metadata": {
        "colab": {
          "base_uri": "https://localhost:8080/"
        },
        "id": "qj_-6FW-iAVn",
        "outputId": "cddde8e2-e38d-4577-fe10-d8b1d29250dc"
      },
      "id": "qj_-6FW-iAVn",
      "execution_count": 9,
      "outputs": [
        {
          "output_type": "stream",
          "name": "stdout",
          "text": [
            "Enter a number: 4\n",
            "The factorial of 4 is 24.\n"
          ]
        }
      ]
    },
    {
      "cell_type": "markdown",
      "id": "ee8b3ea5-fe2f-40eb-bcb0-a7ebca6811e0",
      "metadata": {
        "id": "ee8b3ea5-fe2f-40eb-bcb0-a7ebca6811e0"
      },
      "source": [
        "## Q8.\n",
        "\n",
        "Create an empty dictionary called person_info.\n",
        "\n",
        "Assign the following key-value pairs to the dictionary:\n",
        "\n",
        "\"name\": \"Alice\"\n",
        "\n",
        "\"age\": 25\n",
        "\n",
        "\"occupation\": \"Engineer\"\n",
        "\n",
        "After assigning the values, print the dictionary."
      ]
    },
    {
      "cell_type": "code",
      "source": [
        "person_data  = {}\n",
        "person_data.update({'name':'alice'})\n",
        "person_data.update({'age':25})\n",
        "person_data.update({\"occupation\":\"Engieer\"})\n",
        "person_data"
      ],
      "metadata": {
        "colab": {
          "base_uri": "https://localhost:8080/"
        },
        "id": "XJuesw1iiF0j",
        "outputId": "cecf55af-26b8-4c63-c358-016112e46a1d"
      },
      "id": "XJuesw1iiF0j",
      "execution_count": 10,
      "outputs": [
        {
          "output_type": "execute_result",
          "data": {
            "text/plain": [
              "{'name': 'alice', 'age': 25, 'occupation': 'Engieer'}"
            ]
          },
          "metadata": {},
          "execution_count": 10
        }
      ]
    },
    {
      "cell_type": "markdown",
      "id": "252146ac-80e2-4961-bd0b-39c9821f9e04",
      "metadata": {
        "id": "252146ac-80e2-4961-bd0b-39c9821f9e04"
      },
      "source": [
        "## Q9.\n",
        "Printing a right-angled triangle pattern (with NESTED while loop)"
      ]
    },
    {
      "cell_type": "code",
      "execution_count": null,
      "id": "5719c1be-5aa4-4f6a-96a0-a66e2e3983f1",
      "metadata": {
        "id": "5719c1be-5aa4-4f6a-96a0-a66e2e3983f1"
      },
      "outputs": [],
      "source": [
        "*\n",
        "* *\n",
        "* * *\n",
        "* * * *\n",
        "* * * * *"
      ]
    },
    {
      "cell_type": "code",
      "source": [
        "\n",
        "for i in range(6):\n",
        "    print(\"* \" * i)\n"
      ],
      "metadata": {
        "colab": {
          "base_uri": "https://localhost:8080/"
        },
        "id": "d84It3pZiJP5",
        "outputId": "7e318c69-75cf-4d11-df0d-49cee949eb7e"
      },
      "id": "d84It3pZiJP5",
      "execution_count": 11,
      "outputs": [
        {
          "output_type": "stream",
          "name": "stdout",
          "text": [
            "\n",
            "* \n",
            "* * \n",
            "* * * \n",
            "* * * * \n",
            "* * * * * \n"
          ]
        }
      ]
    },
    {
      "cell_type": "markdown",
      "id": "c8e1c594-6022-4dc6-8a7b-e2c3f36c798a",
      "metadata": {
        "id": "c8e1c594-6022-4dc6-8a7b-e2c3f36c798a"
      },
      "source": [
        "## Q10.\n",
        "\n",
        "Write a Python program that does the following:\n",
        "\n",
        "Range: Loop through numbers from 1 to 20 (inclusive).\n",
        "\n",
        "Continue: If the number is divisible by 4, skip that iteration and move to the next number.\n",
        "\n",
        "Break: If the number is divisible by 7, stop the loop entirely.\n",
        "\n",
        "For all other numbers, print the number."
      ]
    },
    {
      "cell_type": "code",
      "source": [
        "for i in range(1,11):\n",
        "    if i%4==0:\n",
        "        continue\n",
        "    elif i%7==0:\n",
        "        break\n",
        "    else:\n",
        "        print(i)"
      ],
      "metadata": {
        "colab": {
          "base_uri": "https://localhost:8080/"
        },
        "id": "Mr6FnUSniPZQ",
        "outputId": "0c6cd3a5-a0f3-44cf-c52a-38a41d08354d"
      },
      "id": "Mr6FnUSniPZQ",
      "execution_count": 12,
      "outputs": [
        {
          "output_type": "stream",
          "name": "stdout",
          "text": [
            "1\n",
            "2\n",
            "3\n",
            "5\n",
            "6\n"
          ]
        }
      ]
    },
    {
      "cell_type": "code",
      "source": [],
      "metadata": {
        "id": "BNZ4_sACiRUC"
      },
      "id": "BNZ4_sACiRUC",
      "execution_count": null,
      "outputs": []
    }
  ],
  "metadata": {
    "kernelspec": {
      "display_name": "anaconda",
      "language": "python",
      "name": "python3"
    },
    "language_info": {
      "codemirror_mode": {
        "name": "ipython",
        "version": 3
      },
      "file_extension": ".py",
      "mimetype": "text/x-python",
      "name": "python",
      "nbconvert_exporter": "python",
      "pygments_lexer": "ipython3",
      "version": "-1.-1.-1"
    },
    "colab": {
      "provenance": []
    }
  },
  "nbformat": 4,
  "nbformat_minor": 5
}