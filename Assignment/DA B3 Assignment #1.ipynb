{
 "cells": [
  {
   "cell_type": "markdown",
   "id": "iM2tUp3E8YTD",
   "metadata": {
    "id": "iM2tUp3E8YTD"
   },
   "source": [
    "\n",
    "# DATA ANALYTICS ASSIGNMNENT NO#1"
   ]
  },
  {
   "cell_type": "markdown",
   "id": "2ca8b743-249d-47cc-b6bc-288c7032a2f2",
   "metadata": {
    "id": "2ca8b743-249d-47cc-b6bc-288c7032a2f2"
   },
   "source": [
    "# 1. Write a program that takes two numbers (a = 15 , b = 4) and prints their:\n",
    "\n",
    "\n",
    "- Sum\n",
    "\n",
    "- Difference\n",
    "\n",
    "- Product\n",
    "\n",
    "- Division\n",
    "\n",
    "- Floor Division\n",
    "\n",
    "- Modulus\n"
   ]
  },
  {
   "cell_type": "code",
   "execution_count": null,
   "id": "0x1IMuWIcJkv",
   "metadata": {
    "colab": {
     "base_uri": "https://localhost:8080/"
    },
    "executionInfo": {
     "elapsed": 6,
     "status": "ok",
     "timestamp": 1744655490606,
     "user": {
      "displayName": "Iqra Anwar",
      "userId": "08322113760532039685"
     },
     "user_tz": -300
    },
    "id": "0x1IMuWIcJkv",
    "outputId": "68e5f353-952f-44ac-8cb8-2ef26137a938"
   },
   "outputs": [
    {
     "name": "stdout",
     "output_type": "stream",
     "text": [
      "Sum of 15  and  4  is:  19\n",
      "The difference of  15  and  4  is:  11\n",
      "The division of  15  and  4  is  3.75\n",
      "The floor division of  15  and  4  is:  3\n",
      "The modulus of  15  and  4  is:  3\n"
     ]
    }
   ],
   "source": [
    "num1 = 15\n",
    "num2 = 4\n",
    "sum = num1 + num2\n",
    "print(\"Sum of\", num1, \" and \", num2, \" is: \",sum )\n",
    "diff = num1 - num2\n",
    "print(\"The difference of \", num1, \" and \", num2 ,\" is: \", diff)\n",
    "\n",
    "div = num1/num2\n",
    "print(\"The division of \", num1, ' and ', num2 , ' is ', div)\n",
    "\n",
    "floor_div = num1//num2\n",
    "print(\"The floor division of \", num1, ' and ', num2 , ' is: ', floor_div)\n",
    "\n",
    "mod = num1%num2\n",
    "print(\"The modulus of \", num1, ' and ', num2 , ' is: ', mod)\n"
   ]
  },
  {
   "cell_type": "markdown",
   "id": "323137d4-4794-4b18-9c02-0444e4323157",
   "metadata": {
    "id": "323137d4-4794-4b18-9c02-0444e4323157"
   },
   "source": [
    "# 2.Convert the following:\n",
    "(num1 = 10, num2 = 5.6, num3 = 4.43)\n",
    "\n",
    "- Integer to float\n",
    "\n",
    "- Float to integer\n",
    "\n",
    "- Float to String"
   ]
  },
  {
   "cell_type": "code",
   "execution_count": null,
   "id": "5hNPwg0kk18h",
   "metadata": {
    "colab": {
     "base_uri": "https://localhost:8080/"
    },
    "executionInfo": {
     "elapsed": 24,
     "status": "ok",
     "timestamp": 1744656068275,
     "user": {
      "displayName": "Iqra Anwar",
      "userId": "08322113760532039685"
     },
     "user_tz": -300
    },
    "id": "5hNPwg0kk18h",
    "outputId": "37f10616-716f-4359-def5-04a95cf218c7"
   },
   "outputs": [
    {
     "name": "stdout",
     "output_type": "stream",
     "text": [
      "The type of number  10.0  is:  <class 'float'>\n",
      "The type of  5  is:  <class 'int'>\n",
      "The type of number  4.4  is:  <class 'str'>\n"
     ]
    }
   ],
   "source": [
    "num1 = 10\n",
    "num2 = 5.6\n",
    "num3 = 4.4\n",
    "\n",
    "num1_float = float(num1)\n",
    "print(\"The type of number \",num1_float , \" is: \",type(num1_float))\n",
    "\n",
    "\n",
    "num2_int = int(num2)\n",
    "print(\"The type of \", num2_int, ' is: ', type(num2_int))\n",
    "\n",
    "\n",
    "num3_str = str(num3)\n",
    "print(\"The type of number \", num3_str, ' is: ', type(num3_str))"
   ]
  },
  {
   "cell_type": "markdown",
   "id": "b6a8f851-44c6-4906-a0db-344672319251",
   "metadata": {
    "id": "b6a8f851-44c6-4906-a0db-344672319251"
   },
   "source": [
    "# 3. fruits = [\"apple\", \"banana\", \"cherry\", \"coconut\", \"pineapple\", \"mango\", \"orange\"]\n",
    "\n",
    "Print below using indexing:\n",
    "\n",
    "- The first fruit\n",
    "\n",
    "- The last fruit (negative indexing)\n",
    "\n",
    "- The fourth fruit"
   ]
  },
  {
   "cell_type": "code",
   "execution_count": null,
   "id": "-uIB-mbnmwux",
   "metadata": {
    "colab": {
     "base_uri": "https://localhost:8080/"
    },
    "executionInfo": {
     "elapsed": 5,
     "status": "ok",
     "timestamp": 1744656156327,
     "user": {
      "displayName": "Iqra Anwar",
      "userId": "08322113760532039685"
     },
     "user_tz": -300
    },
    "id": "-uIB-mbnmwux",
    "outputId": "93062727-dc3c-4874-f3a4-c37b45e400ef"
   },
   "outputs": [
    {
     "name": "stdout",
     "output_type": "stream",
     "text": [
      "The first fruit is:  apple\n",
      "The last fruit is:  orange\n",
      "The fourth fruit is:  coconut\n"
     ]
    }
   ],
   "source": [
    "fruits = [\"apple\", \"banana\", \"cherry\", \"coconut\", \"pineapple\", \"mango\", \"orange\"]\n",
    "\n",
    "print(\"The first fruit is: \", fruits[0])\n",
    "print(\"The last fruit is: \", fruits[-1])\n",
    "print(\"The fourth fruit is: \", fruits[3])"
   ]
  },
  {
   "cell_type": "markdown",
   "id": "02eb9ef7-85ad-4036-93c4-5c3f27346ab4",
   "metadata": {
    "id": "02eb9ef7-85ad-4036-93c4-5c3f27346ab4"
   },
   "source": [
    "# 4. List Slicing\n",
    "\n",
    "numbers = [10, 20, 30, 40, 50]\n",
    "\n",
    "Print:\n",
    "\n",
    "- First three elements\n",
    "\n",
    "- Last two elements\n",
    "\n",
    "- Print all elements except the first one\n",
    "\n",
    "- Print all elements except the last one\n",
    "\n",
    "- Print the list in reverse using slicing\n",
    "\n",
    "-  Print every second element"
   ]
  },
  {
   "cell_type": "code",
   "execution_count": null,
   "id": "e091QK_4nGAs",
   "metadata": {
    "colab": {
     "base_uri": "https://localhost:8080/"
    },
    "executionInfo": {
     "elapsed": 8,
     "status": "ok",
     "timestamp": 1744656884100,
     "user": {
      "displayName": "Iqra Anwar",
      "userId": "08322113760532039685"
     },
     "user_tz": -300
    },
    "id": "e091QK_4nGAs",
    "outputId": "98342567-7320-4a64-a385-962d92cf59ca"
   },
   "outputs": [
    {
     "name": "stdout",
     "output_type": "stream",
     "text": [
      "First three elements [10, 20, 30]\n",
      "Last two elements [10, 20]\n",
      "Print all elements except the first one [20, 30, 40]\n",
      "Print all elements except the last one [10, 20, 30]\n",
      "Print the list in reverse using slicing [50, 40, 30, 20, 10]\n",
      "Every second element [10, 30, 50]\n"
     ]
    }
   ],
   "source": [
    "numbers = [10, 20, 30, 40, 50]\n",
    "print(\"First three elements\",numbers[0:3])\n",
    "print(\"Last two elements\",numbers[0:2])\n",
    "print(\"Print all elements except the first one\",numbers[1:-1])\n",
    "print(\"Print all elements except the last one\",numbers[0:-2])\n",
    "print(\"Print the list in reverse using slicing\",numbers[::-1])\n",
    "print(\"Every second element\",numbers[0::2])"
   ]
  },
  {
   "cell_type": "markdown",
   "id": "ca5024d0-feea-40ec-b36d-aa333ea27760",
   "metadata": {
    "id": "ca5024d0-feea-40ec-b36d-aa333ea27760"
   },
   "source": [
    "# 5. Add the number 10 to the end of the list using method.\n",
    "\n",
    "nums = [1, 2, 3]\n"
   ]
  },
  {
   "cell_type": "code",
   "execution_count": null,
   "id": "LjQ62gkJp817",
   "metadata": {
    "colab": {
     "base_uri": "https://localhost:8080/"
    },
    "executionInfo": {
     "elapsed": 8,
     "status": "ok",
     "timestamp": 1744656929930,
     "user": {
      "displayName": "Iqra Anwar",
      "userId": "08322113760532039685"
     },
     "user_tz": -300
    },
    "id": "LjQ62gkJp817",
    "outputId": "09131739-c140-47aa-c192-fa9b82531756"
   },
   "outputs": [
    {
     "name": "stdout",
     "output_type": "stream",
     "text": [
      "[1, 2, 3, 10]\n"
     ]
    }
   ],
   "source": [
    "nums = [1, 2, 3]\n",
    "nums.append(10)\n",
    "print(nums)"
   ]
  },
  {
   "cell_type": "markdown",
   "id": "cac03c9e-a77a-4f9f-b148-315ca1a228de",
   "metadata": {
    "id": "cac03c9e-a77a-4f9f-b148-315ca1a228de"
   },
   "source": [
    "# 6. Insert the number 99 at index 1 using method.\n",
    "\n",
    "nums = [1, 2, 3]\n"
   ]
  },
  {
   "cell_type": "code",
   "execution_count": null,
   "id": "qwezTbkzqBos",
   "metadata": {
    "colab": {
     "base_uri": "https://localhost:8080/"
    },
    "executionInfo": {
     "elapsed": 15,
     "status": "ok",
     "timestamp": 1744656949828,
     "user": {
      "displayName": "Iqra Anwar",
      "userId": "08322113760532039685"
     },
     "user_tz": -300
    },
    "id": "qwezTbkzqBos",
    "outputId": "9fa89f11-838d-44cc-b5d0-efd80527e16e"
   },
   "outputs": [
    {
     "name": "stdout",
     "output_type": "stream",
     "text": [
      "[1, 99, 2, 3]\n"
     ]
    }
   ],
   "source": [
    "nums = [1, 2, 3]\n",
    "nums.insert(1,99)\n",
    "print(nums)"
   ]
  },
  {
   "cell_type": "markdown",
   "id": "755179b2-5aa8-4ba9-bb07-4054b83cf3f0",
   "metadata": {
    "id": "755179b2-5aa8-4ba9-bb07-4054b83cf3f0"
   },
   "source": [
    "# 7.  Add the elements of another list [4, 5] to the original list using method\n",
    "\n",
    "nums = [1, 2, 3]"
   ]
  },
  {
   "cell_type": "code",
   "execution_count": null,
   "id": "0TLHN5liqOJu",
   "metadata": {
    "colab": {
     "base_uri": "https://localhost:8080/"
    },
    "executionInfo": {
     "elapsed": 14,
     "status": "ok",
     "timestamp": 1744656994784,
     "user": {
      "displayName": "Iqra Anwar",
      "userId": "08322113760532039685"
     },
     "user_tz": -300
    },
    "id": "0TLHN5liqOJu",
    "outputId": "3f2d90d6-2863-433b-b150-c4f24a8f427a"
   },
   "outputs": [
    {
     "data": {
      "text/plain": [
       "[1, 2, 3, 4, 5]"
      ]
     },
     "execution_count": 83,
     "metadata": {},
     "output_type": "execute_result"
    }
   ],
   "source": [
    "nums = [1, 2, 3]\n",
    "nums.extend([4,5])\n",
    "nums"
   ]
  },
  {
   "cell_type": "markdown",
   "id": "77c3acdf-c270-46b4-a620-e02e59b63f76",
   "metadata": {
    "id": "77c3acdf-c270-46b4-a620-e02e59b63f76"
   },
   "source": [
    "# 8.  Sort the list in ascending order using method\n",
    "\n",
    "nums = [4, 1, 3, 2]"
   ]
  },
  {
   "cell_type": "code",
   "execution_count": null,
   "id": "WFzbrlnRqTrY",
   "metadata": {
    "colab": {
     "base_uri": "https://localhost:8080/"
    },
    "executionInfo": {
     "elapsed": 10,
     "status": "ok",
     "timestamp": 1744657015263,
     "user": {
      "displayName": "Iqra Anwar",
      "userId": "08322113760532039685"
     },
     "user_tz": -300
    },
    "id": "WFzbrlnRqTrY",
    "outputId": "8dfd6a26-32e2-493a-9001-07872621f7b5"
   },
   "outputs": [
    {
     "name": "stdout",
     "output_type": "stream",
     "text": [
      "[1, 2, 3, 4]\n"
     ]
    }
   ],
   "source": [
    "nums = [4, 1, 3, 2]\n",
    "nums.sort()\n",
    "print(nums)"
   ]
  },
  {
   "cell_type": "markdown",
   "id": "471d609a-55e8-4227-a8fd-d6ef73628bf5",
   "metadata": {
    "id": "471d609a-55e8-4227-a8fd-d6ef73628bf5"
   },
   "source": [
    "# 9. A customer orders several food items. Add the items to a list and then:\n",
    "\n",
    "order = [\"burger\", \"fries\", \"coke\"]\n",
    "\n",
    "- Add a new item \"ice cream\" using append()\n",
    "\n",
    "- Remove an item \"biryani\" using remove()\n",
    "\n",
    "- Show the final order"
   ]
  },
  {
   "cell_type": "code",
   "execution_count": null,
   "id": "Ll7lgUK1iFGp",
   "metadata": {
    "colab": {
     "base_uri": "https://localhost:8080/"
    },
    "executionInfo": {
     "elapsed": 6,
     "status": "ok",
     "timestamp": 1744655166950,
     "user": {
      "displayName": "Iqra Anwar",
      "userId": "08322113760532039685"
     },
     "user_tz": -300
    },
    "id": "Ll7lgUK1iFGp",
    "outputId": "7fe0c29f-e6b4-400b-b711-e5f0be00688d"
   },
   "outputs": [
    {
     "name": "stdout",
     "output_type": "stream",
     "text": [
      "Actual order list:  ['burger', 'fries', 'coke']\n",
      "Order list after adding ice cream:  ['burger', 'fries', 'coke', 'ice cream']\n",
      "Order list after adding biryani:  ['burger', 'fries', 'coke', 'ice cream', 'biryani']\n",
      "Fial order list:  ['burger', 'fries', 'coke', 'ice cream']\n"
     ]
    }
   ],
   "source": [
    "order = [\"burger\", \"fries\", \"coke\"]\n",
    "print(\"Actual order list: \",order)\n",
    "\n",
    "order.append(\"ice cream\")\n",
    "print(\"Order list after adding ice cream: \",order)\n",
    "\n",
    "\n",
    "order.append(\"biryani\")\n",
    "print(\"Order list after adding biryani: \",order)\n",
    "\n",
    "order.remove(\"biryani\")\n",
    "print(\"Fial order list: \",order)\n"
   ]
  },
  {
   "cell_type": "markdown",
   "id": "5bdde849-44d9-4ab6-b496-fb125d9b73bd",
   "metadata": {
    "id": "5bdde849-44d9-4ab6-b496-fb125d9b73bd"
   },
   "source": [
    "# 10. Track passengers on a bus:\n",
    "\n",
    "passengers = [\"Ali\", \"Zara\", \"Ahmed\"]\n",
    "\n",
    "\n",
    "- Insert a new passenger \"Sara\" at position 2\n",
    "\n",
    "- Remove passesnger who got off \"Zara\"\n",
    "\n",
    "- Reverse the order to show who entered first"
   ]
  },
  {
   "cell_type": "code",
   "execution_count": null,
   "id": "5d34ff6f-eb9a-416e-bd4a-9950dc99561b",
   "metadata": {
    "id": "5d34ff6f-eb9a-416e-bd4a-9950dc99561b"
   },
   "outputs": [],
   "source": [
    "passengers = [\"Ali\", \"Zara\", \"Ahmed\"]\n",
    "passengers.insert(2, \"Sara\")"
   ]
  },
  {
   "cell_type": "code",
   "execution_count": null,
   "id": "593f6f0a-6556-4d99-b9b2-fe19f97f664c",
   "metadata": {
    "colab": {
     "base_uri": "https://localhost:8080/"
    },
    "executionInfo": {
     "elapsed": 9,
     "status": "ok",
     "timestamp": 1744654806508,
     "user": {
      "displayName": "Iqra Anwar",
      "userId": "08322113760532039685"
     },
     "user_tz": -300
    },
    "id": "593f6f0a-6556-4d99-b9b2-fe19f97f664c",
    "outputId": "5aa220d1-9ddf-4922-83cb-b2312735018d"
   },
   "outputs": [
    {
     "data": {
      "text/plain": [
       "['Ali', 'Zara', 'Sara', 'Ahmed']"
      ]
     },
     "execution_count": 5,
     "metadata": {},
     "output_type": "execute_result"
    }
   ],
   "source": [
    "passengers"
   ]
  },
  {
   "cell_type": "code",
   "execution_count": null,
   "id": "k9hzrKXxh6vk",
   "metadata": {
    "id": "k9hzrKXxh6vk"
   },
   "outputs": [],
   "source": [
    "passengers.remove('Zara')"
   ]
  },
  {
   "cell_type": "code",
   "execution_count": null,
   "id": "WwNgcQHWh9O2",
   "metadata": {
    "colab": {
     "base_uri": "https://localhost:8080/"
    },
    "executionInfo": {
     "elapsed": 11,
     "status": "ok",
     "timestamp": 1744654839446,
     "user": {
      "displayName": "Iqra Anwar",
      "userId": "08322113760532039685"
     },
     "user_tz": -300
    },
    "id": "WwNgcQHWh9O2",
    "outputId": "5b9b0d6f-46f4-4f27-9edf-f842dbcc99a8"
   },
   "outputs": [
    {
     "data": {
      "text/plain": [
       "['Ali', 'Sara', 'Ahmed']"
      ]
     },
     "execution_count": 8,
     "metadata": {},
     "output_type": "execute_result"
    }
   ],
   "source": [
    "passengers"
   ]
  }
 ],
 "metadata": {
  "colab": {
   "provenance": [
    {
     "file_id": "1cJnq5lmSz31zwzT7f-shr15-mCx0w6B5",
     "timestamp": 1744653327984
    }
   ]
  },
  "kernelspec": {
   "display_name": "Python 3 (ipykernel)",
   "language": "python",
   "name": "python3"
  },
  "language_info": {
   "codemirror_mode": {
    "name": "ipython",
    "version": 3
   },
   "file_extension": ".py",
   "mimetype": "text/x-python",
   "name": "python",
   "nbconvert_exporter": "python",
   "pygments_lexer": "ipython3",
   "version": "3.12.7"
  }
 },
 "nbformat": 4,
 "nbformat_minor": 5
}
