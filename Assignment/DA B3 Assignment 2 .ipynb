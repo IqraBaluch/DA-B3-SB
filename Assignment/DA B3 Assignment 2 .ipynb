{
 "cells": [
  {
   "cell_type": "markdown",
   "id": "8e19f463",
   "metadata": {},
   "source": [
    "## ASSIGNMENT No 2"
   ]
  },
  {
   "cell_type": "markdown",
   "id": "6cfd25d7-2816-468c-9b66-e53411f938ac",
   "metadata": {
    "id": "6cfd25d7-2816-468c-9b66-e53411f938ac"
   },
   "source": [
    "## 1-\n",
    "\n",
    "text = 'hello python world'\n",
    "\n",
    "Replace spaces with underscores in the string (e.g., \"hello python world\" → \"hello_python_world\").\n",
    "\n",
    "Split the modified string (e.g., \"hello_python_world\" → ['hello', 'python', 'world']).\n",
    "\n",
    "Join the list elements with a hyphen (-) between them (e.g., ['hello', 'python', 'world'] → \"hello-python-world\").\n",
    "\n",
    "Print all three results\n",
    "\n",
    "Hint: Use string methods"
   ]
  },
  {
   "cell_type": "code",
   "execution_count": 3,
   "id": "ZVMMByFhrtjj",
   "metadata": {
    "colab": {
     "base_uri": "https://localhost:8080/",
     "height": 36
    },
    "executionInfo": {
     "elapsed": 27,
     "status": "ok",
     "timestamp": 1745580228285,
     "user": {
      "displayName": "iqra anwar",
      "userId": "17551622387998266122"
     },
     "user_tz": -300
    },
    "id": "ZVMMByFhrtjj",
    "outputId": "2eed6e4f-a761-4d2e-f248-5da47dce3c4f"
   },
   "outputs": [
    {
     "name": "stdout",
     "output_type": "stream",
     "text": [
      "hello_python_world\n",
      "['hello', 'python', 'world']\n",
      "hello-python-world\n"
     ]
    }
   ],
   "source": [
    "text = 'hello python world'\n",
    "\n",
    "# Step 1: Replace spaces with underscores\n",
    "modified_text = text.replace(' ', '_')  # \"hello_python_world\"\n",
    "print(modified_text)\n",
    "# Step 2: Split the modified string\n",
    "split_list = modified_text.split('_')  # ['hello', 'python', 'world']\n",
    "print(split_list)\n",
    "\n",
    "# Step 3: Join the list elements with a hyphen\n",
    "final_result = '-'.join(split_list)  # \"hello-python-world\"\n",
    "\n",
    "print(final_result)\n"
   ]
  },
  {
   "cell_type": "markdown",
   "id": "43b16f9d-fe31-4abf-8377-82c6cc146e07",
   "metadata": {
    "id": "43b16f9d-fe31-4abf-8377-82c6cc146e07"
   },
   "source": [
    "## 2\n",
    " Check if a string has more than 5 characters. Return True/False\n",
    "\n",
    "word = \"Javascript\""
   ]
  },
  {
   "cell_type": "code",
   "execution_count": 7,
   "id": "fI7WR20JsLW2",
   "metadata": {
    "colab": {
     "base_uri": "https://localhost:8080/"
    },
    "executionInfo": {
     "elapsed": 10,
     "status": "ok",
     "timestamp": 1745580325201,
     "user": {
      "displayName": "iqra anwar",
      "userId": "17551622387998266122"
     },
     "user_tz": -300
    },
    "id": "fI7WR20JsLW2",
    "outputId": "8c8cf459-bb4d-4fde-abf4-3c2f3cd7165f"
   },
   "outputs": [
    {
     "name": "stdout",
     "output_type": "stream",
     "text": [
      "True\n"
     ]
    }
   ],
   "source": [
    "word = 'Javascript'\n",
    "if len(word)>5:\n",
    "  print(True)\n",
    "else:\n",
    "  print(False)"
   ]
  },
  {
   "cell_type": "markdown",
   "id": "b1f1b114-fa24-40b3-851b-208bef6992f3",
   "metadata": {
    "id": "b1f1b114-fa24-40b3-851b-208bef6992f3"
   },
   "source": [
    "## 3 Check if a number is even and greater than 10. Return True/False\n",
    "\n",
    "num2 = 12"
   ]
  },
  {
   "cell_type": "code",
   "execution_count": 9,
   "id": "7LJ0nmK4sg1z",
   "metadata": {
    "colab": {
     "base_uri": "https://localhost:8080/"
    },
    "executionInfo": {
     "elapsed": 9,
     "status": "ok",
     "timestamp": 1745580366076,
     "user": {
      "displayName": "iqra anwar",
      "userId": "17551622387998266122"
     },
     "user_tz": -300
    },
    "id": "7LJ0nmK4sg1z",
    "outputId": "04435da3-e073-43ab-b0b5-7ff9971e340c"
   },
   "outputs": [
    {
     "name": "stdout",
     "output_type": "stream",
     "text": [
      "True\n"
     ]
    }
   ],
   "source": [
    "num2 = 12\n",
    "if num2 %2==0 and num2>10:\n",
    "  print(True)\n",
    "else:\n",
    "  print(False)"
   ]
  },
  {
   "cell_type": "markdown",
   "id": "a8861555-edde-43cb-94c7-ace2988433fa",
   "metadata": {
    "id": "a8861555-edde-43cb-94c7-ace2988433fa"
   },
   "source": [
    "## 4- Check if a number is less than 5 or greater than 20. Return True/False\n",
    "\n",
    "num3 = 3"
   ]
  },
  {
   "cell_type": "code",
   "execution_count": 10,
   "id": "EhUnt9m0srOX",
   "metadata": {
    "colab": {
     "base_uri": "https://localhost:8080/"
    },
    "executionInfo": {
     "elapsed": 11,
     "status": "ok",
     "timestamp": 1745580441704,
     "user": {
      "displayName": "iqra anwar",
      "userId": "17551622387998266122"
     },
     "user_tz": -300
    },
    "id": "EhUnt9m0srOX",
    "outputId": "b7057ea4-9cd1-482b-fb02-f1150ebe9baa"
   },
   "outputs": [
    {
     "name": "stdout",
     "output_type": "stream",
     "text": [
      "True\n"
     ]
    }
   ],
   "source": [
    "num3 = 3\n",
    "if num3 <5 or num3 > 20:\n",
    "  print(True)\n",
    "else:\n",
    "  print(False)"
   ]
  },
  {
   "cell_type": "markdown",
   "id": "1bb3ccd8-c052-47ed-ab1c-d76496b2174c",
   "metadata": {
    "id": "1bb3ccd8-c052-47ed-ab1c-d76496b2174c"
   },
   "source": [
    "## 5- Check if a person’s age is between 18 and 65 and if they have a valid ID\n",
    "\n",
    "age = 25\n",
    "\n",
    "has_id = True"
   ]
  },
  {
   "cell_type": "code",
   "execution_count": 11,
   "id": "WDP-G6o2s8tT",
   "metadata": {
    "colab": {
     "base_uri": "https://localhost:8080/"
    },
    "executionInfo": {
     "elapsed": 12,
     "status": "ok",
     "timestamp": 1745580476952,
     "user": {
      "displayName": "iqra anwar",
      "userId": "17551622387998266122"
     },
     "user_tz": -300
    },
    "id": "WDP-G6o2s8tT",
    "outputId": "fe6c3237-fc68-43c8-824e-03a110bfcda9"
   },
   "outputs": [
    {
     "name": "stdout",
     "output_type": "stream",
     "text": [
      "True\n"
     ]
    }
   ],
   "source": [
    "age = 25\n",
    "if age >=10 or age <=65:\n",
    "  print(True)\n",
    "else:\n",
    "  print(False)"
   ]
  },
  {
   "cell_type": "markdown",
   "id": "2842c61a-03a6-4501-b217-b616e35d5381",
   "metadata": {
    "id": "2842c61a-03a6-4501-b217-b616e35d5381"
   },
   "source": [
    "## 6-Write a script to check if a string starts with (http://) or (https://)\n",
    "\n",
    "url = \"https://www.example.com\""
   ]
  },
  {
   "cell_type": "code",
   "execution_count": 12,
   "id": "KJt_qZgutYxr",
   "metadata": {
    "colab": {
     "base_uri": "https://localhost:8080/"
    },
    "executionInfo": {
     "elapsed": 49,
     "status": "ok",
     "timestamp": 1745580572906,
     "user": {
      "displayName": "iqra anwar",
      "userId": "17551622387998266122"
     },
     "user_tz": -300
    },
    "id": "KJt_qZgutYxr",
    "outputId": "64444e83-d3ee-4267-9896-589a01e0c850"
   },
   "outputs": [
    {
     "name": "stdout",
     "output_type": "stream",
     "text": [
      "True\n"
     ]
    }
   ],
   "source": [
    "\n",
    "url = \"https://www.example.com\"\n",
    "\n",
    "if url.startswith(\"http://\") or url.startswith(\"https://\"):\n",
    "  print(True)\n",
    "else:\n",
    "  print(False)\n"
   ]
  },
  {
   "cell_type": "markdown",
   "id": "aab1ae26-2cc7-4d19-937d-a83c6cffc5ec",
   "metadata": {
    "id": "aab1ae26-2cc7-4d19-937d-a83c6cffc5ec"
   },
   "source": [
    "## 7- Write a script that applies a 10% discount to an item's price. (Using Assignment Operator)\n",
    "\n",
    "price = 100"
   ]
  },
  {
   "cell_type": "code",
   "execution_count": 13,
   "id": "CemxoPA6urOH",
   "metadata": {
    "colab": {
     "base_uri": "https://localhost:8080/"
    },
    "executionInfo": {
     "elapsed": 8,
     "status": "ok",
     "timestamp": 1745580913248,
     "user": {
      "displayName": "iqra anwar",
      "userId": "17551622387998266122"
     },
     "user_tz": -300
    },
    "id": "CemxoPA6urOH",
    "outputId": "277ca81f-e96b-4fe5-a945-4d2609d8684a"
   },
   "outputs": [
    {
     "name": "stdout",
     "output_type": "stream",
     "text": [
      "90.0\n"
     ]
    }
   ],
   "source": [
    "price = 100\n",
    "\n",
    "# Calculate the discount amount.\n",
    "discount = price * 0.10\n",
    "\n",
    "# Apply the discount to the original price.\n",
    "price -= discount  # This is equivalent to: price = price - discount\n",
    "\n",
    "# Print the discounted price.\n",
    "print(price)"
   ]
  },
  {
   "cell_type": "markdown",
   "id": "f6cddfb2-70b7-4e67-9b02-728c82e92e2f",
   "metadata": {
    "id": "f6cddfb2-70b7-4e67-9b02-728c82e92e2f"
   },
   "source": [
    "## 8- You are managing different customer lists for a subscription service, check if alice@example.com is our both premium and basic customer\n",
    "\n",
    "premium_customers = [\"alice@example.com\", \"charlie@example.com\", \"bob@example.com\"]\n",
    "\n",
    "basic_customers = [\"alex@example.com\", \"david@example.com\", \"chloe@example.com\"]"
   ]
  },
  {
   "cell_type": "code",
   "execution_count": 15,
   "id": "94OxJ35Guz1S",
   "metadata": {
    "colab": {
     "base_uri": "https://localhost:8080/"
    },
    "executionInfo": {
     "elapsed": 16,
     "status": "ok",
     "timestamp": 1745581015064,
     "user": {
      "displayName": "iqra anwar",
      "userId": "17551622387998266122"
     },
     "user_tz": -300
    },
    "id": "94OxJ35Guz1S",
    "outputId": "263386ed-f0c5-492d-eded-23b0f8170f02"
   },
   "outputs": [
    {
     "name": "stdout",
     "output_type": "stream",
     "text": [
      "False\n"
     ]
    }
   ],
   "source": [
    "premium_customers = [\"alice@example.com\", \"charlie@example.com\", \"bob@example.com\"]\n",
    "basic_customers = [\"alex@example.com\", \"david@example.com\", \"chloe@example.com\"]\n",
    "\n",
    "is_in_both = \"alice@example.com\" in premium_customers and \"alice@example.com\" in basic_customers\n",
    "\n",
    "print(is_in_both)"
   ]
  },
  {
   "cell_type": "markdown",
   "id": "47dbafcf-7a6b-4ba0-af44-1e567292f8de",
   "metadata": {
    "id": "47dbafcf-7a6b-4ba0-af44-1e567292f8de"
   },
   "source": [
    "## 9. Write a Python program that prompts the user to enter a password and returns True or False based on the following checks:\n",
    "\n",
    "Whether the string contains any uppercase characters.\n",
    "\n",
    "Whether the string contains any lowercase characters.\n",
    "\n",
    "Whether the string contains any spaces.\n",
    "\n",
    "Whether the string contains any special characters (anything other than letters, digits, and spaces).\n",
    "\n",
    "\n",
    "\n",
    "Hint: Use Input function and string methods\n"
   ]
  },
  {
   "cell_type": "code",
   "execution_count": 20,
   "id": "ow7hFlfju1IR",
   "metadata": {
    "colab": {
     "base_uri": "https://localhost:8080/"
    },
    "executionInfo": {
     "elapsed": 11686,
     "status": "ok",
     "timestamp": 1745581133238,
     "user": {
      "displayName": "iqra anwar",
      "userId": "17551622387998266122"
     },
     "user_tz": -300
    },
    "id": "ow7hFlfju1IR",
    "outputId": "98058cc8-345e-4c9b-910a-06ede4691b4b"
   },
   "outputs": [
    {
     "name": "stdout",
     "output_type": "stream",
     "text": [
      "Enter a password: IQRAanwar *(&^^$$##$%\n",
      "True\n"
     ]
    }
   ],
   "source": [
    "import re\n",
    "\n",
    "password = input(\"Enter a password: \")\n",
    "\n",
    "has_uppercase = any(char.isupper() for char in password)\n",
    "has_lowercase = any(char.islower() for char in password)\n",
    "has_spaces = any(char.isspace() for char in password)\n",
    "has_special_chars = bool(re.search(r\"[^a-zA-Z0-9\\s]\", password))\n",
    "\n",
    "if has_uppercase and has_lowercase and has_spaces and has_special_chars:\n",
    "    print(True)\n",
    "else:\n",
    "    print(False)"
   ]
  },
  {
   "cell_type": "markdown",
   "id": "8164e2d0-dc5a-4439-a196-1545e0a55139",
   "metadata": {
    "id": "8164e2d0-dc5a-4439-a196-1545e0a55139"
   },
   "source": [
    "## 10- You have a product code that follows the format \"SKU-12345-XYZ\".\n",
    "\n",
    "Find the first position of the dash (-).\n",
    "\n",
    "Count the number of dashes (-) in the product code.\n",
    "\n",
    "Remove the \"SKU-\" prefix and \"-XYZ\" suffix from the product code, Extract the numeric part 12345\n",
    "\n",
    "Hint: Use String Methods"
   ]
  },
  {
   "cell_type": "code",
   "execution_count": 21,
   "id": "3804ef6e-0881-4f70-a613-9d842c294016",
   "metadata": {
    "colab": {
     "base_uri": "https://localhost:8080/"
    },
    "executionInfo": {
     "elapsed": 8,
     "status": "ok",
     "timestamp": 1745581157375,
     "user": {
      "displayName": "iqra anwar",
      "userId": "17551622387998266122"
     },
     "user_tz": -300
    },
    "id": "3804ef6e-0881-4f70-a613-9d842c294016",
    "outputId": "9dbb5960-c330-42b4-cb3a-1b81edd81708"
   },
   "outputs": [
    {
     "name": "stdout",
     "output_type": "stream",
     "text": [
      "First dash position: 3\n",
      "Dash count: 2\n",
      "Numeric part: 12345\n"
     ]
    }
   ],
   "source": [
    "product_code = \"SKU-12345-XYZ\"\n",
    "\n",
    "# Find the first position of the dash (-)\n",
    "first_dash_position = product_code.find(\"-\")\n",
    "print(\"First dash position:\", first_dash_position)  # Output: 3\n",
    "\n",
    "# Count the number of dashes (-) in the product code\n",
    "dash_count = product_code.count(\"-\")\n",
    "print(\"Dash count:\", dash_count)  # Output: 2\n",
    "\n",
    "# Remove the \"SKU-\" prefix and \"-XYZ\" suffix, extract the numeric part\n",
    "numeric_part = product_code.replace(\"SKU-\", \"\").replace(\"-XYZ\", \"\")\n",
    "#alternative way\n",
    "# numeric_part = product_code[4:-4] # Extract substring from index 4 to (end - 4)\n",
    "\n",
    "print(\"Numeric part:\", numeric_part)  # Output: 12345"
   ]
  }
 ],
 "metadata": {
  "colab": {
   "provenance": []
  },
  "kernelspec": {
   "display_name": "Python 3",
   "language": "python",
   "name": "python3"
  },
  "language_info": {
   "codemirror_mode": {
    "name": "ipython",
    "version": 3
   },
   "file_extension": ".py",
   "mimetype": "text/x-python",
   "name": "python",
   "nbconvert_exporter": "python",
   "pygments_lexer": "ipython3",
   "version": "3.7.9"
  }
 },
 "nbformat": 4,
 "nbformat_minor": 5
}
