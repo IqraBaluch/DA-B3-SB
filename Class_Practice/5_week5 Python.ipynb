{
 "cells": [
  {
   "cell_type": "markdown",
   "id": "9a7a2571-c5c7-4294-a1c4-664a164f0840",
   "metadata": {},
   "source": [
    "# Nester For Loop"
   ]
  },
  {
   "cell_type": "code",
   "execution_count": 3,
   "id": "a20e5b1f-ee2e-46ee-b281-717add266dbb",
   "metadata": {},
   "outputs": [
    {
     "name": "stdout",
     "output_type": "stream",
     "text": [
      "['karachi', 'hyd', 'isb', 'quetta', 'lhr']\n"
     ]
    },
    {
     "data": {
      "text/plain": [
       "['isb', 'multan', 'faisalabad', 'quetta', 'peshawar']"
      ]
     },
     "execution_count": 3,
     "metadata": {},
     "output_type": "execute_result"
    }
   ],
   "source": [
    "cities = ['karachi', 'hyd', 'isb', 'quetta', 'lhr']\n",
    "visited_cities = ['isb', 'multan', 'faisalabad', 'quetta', 'peshawar']\n",
    "print(cities)\n",
    "visited_cities"
   ]
  },
  {
   "cell_type": "code",
   "execution_count": 14,
   "id": "6e848190-175a-49a6-8c4f-cd617c43bf10",
   "metadata": {},
   "outputs": [
    {
     "name": "stdout",
     "output_type": "stream",
     "text": [
      "karachi isb\n",
      "karachi multan\n",
      "karachi faisalabad\n",
      "karachi quetta\n",
      "karachi peshawar\n",
      "-*--*--*--*--*--*--*--*--*--*--*--*--*--*--*--*--*--*--*--*-\n",
      "hyd isb\n",
      "hyd multan\n",
      "hyd faisalabad\n",
      "hyd quetta\n",
      "hyd peshawar\n",
      "-*--*--*--*--*--*--*--*--*--*--*--*--*--*--*--*--*--*--*--*-\n",
      "isb isb\n",
      "isb multan\n",
      "isb faisalabad\n",
      "isb quetta\n",
      "isb peshawar\n",
      "-*--*--*--*--*--*--*--*--*--*--*--*--*--*--*--*--*--*--*--*-\n",
      "quetta isb\n",
      "quetta multan\n",
      "quetta faisalabad\n",
      "quetta quetta\n",
      "quetta peshawar\n",
      "-*--*--*--*--*--*--*--*--*--*--*--*--*--*--*--*--*--*--*--*-\n",
      "lhr isb\n",
      "lhr multan\n",
      "lhr faisalabad\n",
      "lhr quetta\n",
      "lhr peshawar\n",
      "-*--*--*--*--*--*--*--*--*--*--*--*--*--*--*--*--*--*--*--*-\n"
     ]
    }
   ],
   "source": [
    "#requirment: print every visited_city with every city in city list one by one.\n",
    "for i in cities:\n",
    "    for j in visited_cities:\n",
    "        \n",
    "        print(i,j)\n",
    "    print(\"-*-\"*20)\n",
    "    "
   ]
  },
  {
   "cell_type": "code",
   "execution_count": 19,
   "id": "d28d2111-3333-470b-b5a1-943e0d569761",
   "metadata": {},
   "outputs": [
    {
     "name": "stdout",
     "output_type": "stream",
     "text": [
      "['karachi']\n",
      "['karachi', 'hyd']\n",
      "Already visited\n",
      "['karachi', 'hyd']\n",
      "Already visited\n",
      "['karachi', 'hyd']\n",
      "['karachi', 'hyd', 'lhr']\n"
     ]
    }
   ],
   "source": [
    "# if city is already visisted inter it in empty list\n",
    "\n",
    "remaining_cities = []\n",
    "for city in cities:\n",
    "    if city in visited_cities:\n",
    "        print(\"Already visited\")\n",
    "\n",
    "    else:\n",
    "        remaining_cities.append(city)\n",
    "    print(remaining_cities)\n",
    "   \n",
    "    "
   ]
  },
  {
   "cell_type": "code",
   "execution_count": null,
   "id": "b1529fd7-7d08-4fb7-b049-f300ff106e3b",
   "metadata": {},
   "outputs": [],
   "source": []
  },
  {
   "cell_type": "code",
   "execution_count": 21,
   "id": "8c072e4e-967d-43bd-b824-e163644aeba7",
   "metadata": {},
   "outputs": [
    {
     "name": "stdin",
     "output_type": "stream",
     "text": [
      "Enter city to visit:  isb\n",
      "Enter city to visit:  lhr\n",
      "Enter city to visit:  khi\n",
      "Enter city to visit:  quit\n"
     ]
    },
    {
     "name": "stdout",
     "output_type": "stream",
     "text": [
      "['isb', 'lhr', 'khi']\n"
     ]
    }
   ],
   "source": [
    "cities_to_visit =[]\n",
    "user_input = ''\n",
    "\n",
    "while user_input != 'quit':\n",
    "    \n",
    "    city = input(\"Enter city to visit: \")\n",
    "    if city == 'quit':\n",
    "        user_input = 'quit'\n",
    "    else:\n",
    "        cities_to_visit.append(city)\n",
    "print(cities_to_visit)\n",
    "    \n",
    "                 "
   ]
  },
  {
   "cell_type": "code",
   "execution_count": 46,
   "id": "5ce1bc66-7e93-4fa8-bdd0-9ac017006934",
   "metadata": {},
   "outputs": [
    {
     "name": "stdout",
     "output_type": "stream",
     "text": [
      "['Monday', 'Tuesday', 'Wednesday', 'Thursday', 'Friday']\n",
      "['9AM-10AM', '10AM-11AM', '11AM-12PM']\n",
      "\n",
      "Schedule for Monday:\n",
      "class at 9AM-10AM\n",
      "class at 10AM-11AM\n",
      "class at 11AM-12PM\n",
      "\n",
      "\n",
      "Schedule for Tuesday:\n",
      "class at 9AM-10AM\n",
      "class at 10AM-11AM\n",
      "class at 11AM-12PM\n",
      "\n",
      "\n",
      "Schedule for Wednesday:\n",
      "class at 9AM-10AM\n",
      "class at 10AM-11AM\n",
      "class at 11AM-12PM\n",
      "\n",
      "\n",
      "Schedule for Thursday:\n",
      "class at 9AM-10AM\n",
      "class at 10AM-11AM\n",
      "class at 11AM-12PM\n",
      "\n",
      "\n",
      "Schedule for Friday:\n",
      "class at 9AM-10AM\n",
      "class at 10AM-11AM\n",
      "class at 11AM-12PM\n",
      "\n"
     ]
    }
   ],
   "source": [
    "# Define the days and time slots\n",
    "week_days = ['Monday', 'Tuesday', 'Wednesday', 'Thursday', 'Friday']\n",
    "time_slots = ['9AM-10AM', '10AM-11AM', '11AM-12PM']\n",
    "\n",
    "# Print the lists (optional)\n",
    "print(week_days)\n",
    "print(time_slots)\n",
    "\n",
    "# Loop through each day and print the schedule\n",
    "for day in week_days:\n",
    "    print(f\"\\nSchedule for {day}:\")\n",
    "    for slot in time_slots:\n",
    "        print(f\"class at {slot}\")\n",
    "    print()\n"
   ]
  },
  {
   "cell_type": "markdown",
   "id": "550afaf2-3b38-4816-9b9f-2b2950ba0925",
   "metadata": {},
   "source": [
    "### F String = f{}"
   ]
  },
  {
   "cell_type": "code",
   "execution_count": 37,
   "id": "e4a36d0f-b824-4f9b-867c-afecaa713dc7",
   "metadata": {},
   "outputs": [],
   "source": [
    "name = 'sara'\n",
    "name\n",
    "age = 24\n"
   ]
  },
  {
   "cell_type": "code",
   "execution_count": 38,
   "id": "5bc459ef-bcf4-4c79-a921-3ac00ef39d15",
   "metadata": {},
   "outputs": [
    {
     "ename": "TypeError",
     "evalue": "can only concatenate str (not \"int\") to str",
     "output_type": "error",
     "traceback": [
      "\u001b[1;31m---------------------------------------------------------------------------\u001b[0m",
      "\u001b[1;31mTypeError\u001b[0m                                 Traceback (most recent call last)",
      "Cell \u001b[1;32mIn[38], line 1\u001b[0m\n\u001b[1;32m----> 1\u001b[0m \u001b[38;5;28mprint\u001b[39m(\u001b[38;5;124m\"\u001b[39m\u001b[38;5;124mMy name is :\u001b[39m\u001b[38;5;124m\"\u001b[39m\u001b[38;5;241m+\u001b[39m \u001b[38;5;124m\"\u001b[39m\u001b[38;5;124m \u001b[39m\u001b[38;5;124m\"\u001b[39m\u001b[38;5;241m+\u001b[39m name\u001b[38;5;241m+\u001b[39mage)\n",
      "\u001b[1;31mTypeError\u001b[0m: can only concatenate str (not \"int\") to str"
     ]
    }
   ],
   "source": [
    "print(\"My name is :\"+ \" \"+ name+age)"
   ]
  },
  {
   "cell_type": "code",
   "execution_count": 39,
   "id": "9134fd04-085d-4627-a120-f7137c96540c",
   "metadata": {},
   "outputs": [
    {
     "name": "stdout",
     "output_type": "stream",
     "text": [
      "My name is:  sara and i am 24 years old \n"
     ]
    }
   ],
   "source": [
    "print(f\"My name is:  {name} and i am {age} years old \")"
   ]
  },
  {
   "cell_type": "code",
   "execution_count": null,
   "id": "f1e7543a-180f-438b-8a43-72022ba5dd01",
   "metadata": {},
   "outputs": [],
   "source": []
  },
  {
   "cell_type": "code",
   "execution_count": 65,
   "id": "a0a2e3ac-b5aa-4475-846f-8c2cbd9fced9",
   "metadata": {},
   "outputs": [
    {
     "name": "stdout",
     "output_type": "stream",
     "text": [
      "[4, 9, 16, 25]\n"
     ]
    }
   ],
   "source": [
    "# return loop result in a list\n",
    "num1 = []\n",
    "numbers = [2,3,4,5]\n",
    "for num in numbers:\n",
    "    #print(num ** 2)\n",
    "    square = num**2\n",
    "    num1.append(square)\n",
    "print(num1)\n",
    "    "
   ]
  },
  {
   "cell_type": "markdown",
   "id": "5828040f-45d4-4b1d-aa44-8d3281c43d35",
   "metadata": {},
   "source": [
    "## List Comprehension"
   ]
  },
  {
   "cell_type": "code",
   "execution_count": 68,
   "id": "cd46b335-bb45-4a41-8578-7e36b674294f",
   "metadata": {},
   "outputs": [
    {
     "data": {
      "text/plain": [
       "[2, 3, 4, 5]"
      ]
     },
     "execution_count": 68,
     "metadata": {},
     "output_type": "execute_result"
    }
   ],
   "source": [
    "numbers"
   ]
  },
  {
   "cell_type": "code",
   "execution_count": 75,
   "id": "fda07e56-78dd-4ecb-aa39-abab32969946",
   "metadata": {},
   "outputs": [
    {
     "data": {
      "text/plain": [
       "[4, 9, 16, 25]"
      ]
     },
     "execution_count": 75,
     "metadata": {},
     "output_type": "execute_result"
    }
   ],
   "source": [
    "num = [number**2 for number in numbers]\n",
    "num"
   ]
  },
  {
   "cell_type": "code",
   "execution_count": 76,
   "id": "89b91743-36aa-4ed3-87f1-ed433ebaed85",
   "metadata": {},
   "outputs": [],
   "source": [
    "Ec_Store_Orders = [\n",
    "    {\"order_id\": 1, \"customer_name\": \"Ali\", \"total_amount\": 120, \"status\": \"Completed\"},\n",
    "    {\"order_id\": 2, \"customer_name\": \"Raheel\", \"total_amount\": 80, \"status\": \"Pending\"},\n",
    "    {\"order_id\": 3, \"customer_name\": \"Saleem\", \"total_amount\": 150, \"status\": \"Completed\"},\n",
    "    {\"order_id\": 4, \"customer_name\": \"khushnoor\", \"total_amount\": 95, \"status\": \"Completed\"},\n",
    "    {\"order_id\": 5, \"customer_name\": \"Alizy\", \"total_amount\": 200, \"status\": \"Pending\"},\n",
    "    {\"order_id\": 6, \"customer_name\": \"javaid\", \"total_amount\": 85, \"status\": \"Completed\"},\n",
    "    {\"order_id\": 7, \"customer_name\": \"Talha\", \"total_amount\": 150, \"status\": \"Pending\"},\n",
    "    {\"order_id\": 8, \"customer_name\": \"Naveed\", \"total_amount\": 200, \"status\": \"Completed\"},\n",
    "]"
   ]
  },
  {
   "cell_type": "code",
   "execution_count": 93,
   "id": "d9445641-1299-4a97-b80b-d027a55a4cad",
   "metadata": {},
   "outputs": [
    {
     "name": "stdout",
     "output_type": "stream",
     "text": [
      "[1, 3, 8]\n"
     ]
    }
   ],
   "source": [
    "order_ids = []\n",
    "for orders in Ec_Store_Orders:\n",
    "    if orders['total_amount'] > 100 and orders['status'] == 'Completed':\n",
    "        completed_orders = orders['order_id']\n",
    "        order_ids.append(completed_orders)\n",
    "print(order_ids)"
   ]
  },
  {
   "cell_type": "code",
   "execution_count": 95,
   "id": "97c8d5fe-22de-41f3-9692-932a80d8c448",
   "metadata": {},
   "outputs": [
    {
     "name": "stdout",
     "output_type": "stream",
     "text": [
      "[1, 3, 8]\n"
     ]
    }
   ],
   "source": [
    "order_ids = [\n",
    "    orders['order_id']\n",
    "    for orders in Ec_Store_Orders\n",
    "    if orders['total_amount'] > 100 and orders['status'] == 'Completed'\n",
    "]\n",
    "print(order_ids)\n"
   ]
  },
  {
   "cell_type": "code",
   "execution_count": null,
   "id": "7693294e-fdf8-45e9-96fb-13e91065c3bd",
   "metadata": {},
   "outputs": [],
   "source": []
  }
 ],
 "metadata": {
  "kernelspec": {
   "display_name": "Python 3 (ipykernel)",
   "language": "python",
   "name": "python3"
  },
  "language_info": {
   "codemirror_mode": {
    "name": "ipython",
    "version": 3
   },
   "file_extension": ".py",
   "mimetype": "text/x-python",
   "name": "python",
   "nbconvert_exporter": "python",
   "pygments_lexer": "ipython3",
   "version": "3.12.4"
  }
 },
 "nbformat": 4,
 "nbformat_minor": 5
}
